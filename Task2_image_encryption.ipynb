{
 "cells": [
  {
   "cell_type": "code",
   "execution_count": 6,
   "id": "a2ada3bf-8020-4dae-825c-50933fd60f13",
   "metadata": {},
   "outputs": [
    {
     "name": "stdout",
     "output_type": "stream",
     "text": [
      "🖼️ Simple Image Encryption Tool\n"
     ]
    },
    {
     "name": "stdin",
     "output_type": "stream",
     "text": [
      "Enter image file path (e.g., task2.png):  image.jpg\n"
     ]
    },
    {
     "name": "stdout",
     "output_type": "stream",
     "text": [
      "\n",
      "Select encryption method:\n",
      "1. Swap adjacent pixels\n",
      "2. Add key to each pixel value\n",
      "3. Apply both operations\n"
     ]
    },
    {
     "name": "stdin",
     "output_type": "stream",
     "text": [
      "Enter choice (1/2/3):  3\n",
      "Enter encryption key (0–255):  25\n"
     ]
    },
    {
     "name": "stdout",
     "output_type": "stream",
     "text": [
      "✅ Encrypted image saved as: image_encrypted.png\n"
     ]
    }
   ],
   "source": [
    "from PIL import Image\n",
    "import numpy as np\n",
    "import os\n",
    "\n",
    "def load_image(path):\n",
    "    \"\"\"Load image and convert to NumPy array\"\"\"\n",
    "    try:\n",
    "        img = Image.open(path)\n",
    "        img = img.convert('RGB')\n",
    "        data = np.array(img)\n",
    "        return img, data\n",
    "    except FileNotFoundError:\n",
    "        print(\"Error: File not found.\")\n",
    "        return None, None\n",
    "\n",
    "def save_image(data, output_path):\n",
    "    \"\"\"Save NumPy array as image\"\"\"\n",
    "    result = Image.fromarray(data.astype('uint8'), 'RGB')\n",
    "    result.save(output_path)\n",
    "    print(f\"✅ Encrypted image saved as: {output_path}\")\n",
    "\n",
    "def swap_pixels(data):\n",
    "    \"\"\"Swap adjacent pixel values horizontally\"\"\"\n",
    "    encrypted = data.copy()\n",
    "    rows, cols, _ = encrypted.shape\n",
    "    for i in range(rows):\n",
    "        for j in range(0, cols - 1, 2):\n",
    "            encrypted[i, j], encrypted[i, j + 1] = encrypted[i, j + 1], encrypted[i, j]\n",
    "    return encrypted\n",
    "\n",
    "def add_key_to_pixels(data, key=50):\n",
    "    \"\"\"Add a key to each RGB value with modulo to keep range\"\"\"\n",
    "    encrypted = (data + key) % 256\n",
    "    return encrypted\n",
    "\n",
    "def main():\n",
    "    print(\"🖼️ Simple Image Encryption Tool\")\n",
    "    image_path = input(\"Enter image file path (e.g., task2.png): \").strip()\n",
    "    img, pixel_data = load_image(image_path)\n",
    "\n",
    "    if pixel_data is None:\n",
    "        return\n",
    "\n",
    "    print(\"\\nSelect encryption method:\")\n",
    "    print(\"1. Swap adjacent pixels\")\n",
    "    print(\"2. Add key to each pixel value\")\n",
    "    print(\"3. Apply both operations\")\n",
    "    method = input(\"Enter choice (1/2/3): \").strip()\n",
    "\n",
    "    if method not in ['1', '2', '3']:\n",
    "        print(\"❌ Invalid option selected.\")\n",
    "        return\n",
    "\n",
    "    # Apply methods based on user choice\n",
    "    encrypted_data = pixel_data\n",
    "    if method == '1':\n",
    "        encrypted_data = swap_pixels(encrypted_data)\n",
    "    elif method == '2':\n",
    "        key = int(input(\"Enter encryption key (0–255): \"))\n",
    "        encrypted_data = add_key_to_pixels(encrypted_data, key)\n",
    "    elif method == '3':\n",
    "        key = int(input(\"Enter encryption key (0–255): \"))\n",
    "        encrypted_data = swap_pixels(encrypted_data)\n",
    "        encrypted_data = add_key_to_pixels(encrypted_data, key)\n",
    "\n",
    "    # Output filename\n",
    "    base_name = os.path.splitext(os.path.basename(image_path))[0]\n",
    "    output_path = f\"{base_name}_encrypted.png\"\n",
    "    save_image(encrypted_data, output_path)\n",
    "\n",
    "if __name__ == \"__main__\":\n",
    "    main()\n"
   ]
  },
  {
   "cell_type": "code",
   "execution_count": null,
   "id": "d9437223-0970-426c-8ba9-80fb34c244ff",
   "metadata": {},
   "outputs": [],
   "source": []
  }
 ],
 "metadata": {
  "kernelspec": {
   "display_name": "Python [conda env:base] *",
   "language": "python",
   "name": "conda-base-py"
  },
  "language_info": {
   "codemirror_mode": {
    "name": "ipython",
    "version": 3
   },
   "file_extension": ".py",
   "mimetype": "text/x-python",
   "name": "python",
   "nbconvert_exporter": "python",
   "pygments_lexer": "ipython3",
   "version": "3.12.7"
  }
 },
 "nbformat": 4,
 "nbformat_minor": 5
}
